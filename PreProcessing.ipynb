{
 "cells": [
  {
   "cell_type": "code",
   "execution_count": 1,
   "metadata": {},
   "outputs": [
    {
     "name": "stderr",
     "output_type": "stream",
     "text": [
      "/usr/lib/python3/dist-packages/scipy/__init__.py:146: UserWarning: A NumPy version >=1.17.3 and <1.25.0 is required for this version of SciPy (detected version 1.26.4\n",
      "  warnings.warn(f\"A NumPy version >={np_minversion} and <{np_maxversion}\"\n"
     ]
    }
   ],
   "source": [
    "import pandas as pd\n",
    "import numpy as np\n",
    "# import the KNNimputer class\n",
    "from sklearn.impute import KNNImputer"
   ]
  },
  {
   "cell_type": "code",
   "execution_count": 2,
   "metadata": {},
   "outputs": [],
   "source": [
    "dataset1 = pd.read_excel(\"../Kumpulan Data/Data Transformasi TMA Ciliwung.xlsx\")\n",
    "dataset2 = pd.read_csv(\"../Kumpulan Data/Data Cuaca Jakarta.csv\")\n",
    "\n",
    "# Konversi kolom menjadi format datetime\n",
    "dataset1['TanggalWaktu'] = pd.to_datetime(dataset1['Tanggal'] + ' ' + dataset1['Waktu'], format='%d/%m/%Y %H:%M')\n",
    "# Konversi kolom menjadi format datetime\n",
    "dataset2['TanggalWaktu'] = pd.to_datetime(dataset2['period_end']).dt.tz_localize(None)\n"
   ]
  },
  {
   "cell_type": "code",
   "execution_count": 3,
   "metadata": {},
   "outputs": [
    {
     "name": "stdout",
     "output_type": "stream",
     "text": [
      "   air_temp  cloud_opacity  precipitable_water  precipitation_rate  \\\n",
      "0        26           94.8                73.0                 1.1   \n",
      "1        26           95.8                72.1                 0.7   \n",
      "2        26           91.9                71.1                 0.7   \n",
      "3        26           75.8                70.8                 0.9   \n",
      "\n",
      "   relative_humidity  wind_speed_10m            period_end period  \\\n",
      "0               92.5             1.5  2020-01-01T01:00:00Z  PT60M   \n",
      "1               89.8             2.4  2020-01-01T02:00:00Z  PT60M   \n",
      "2               86.9             3.0  2020-01-01T03:00:00Z  PT60M   \n",
      "3               87.5             3.4  2020-01-01T04:00:00Z  PT60M   \n",
      "\n",
      "         TanggalWaktu  \n",
      "0 2020-01-01 01:00:00  \n",
      "1 2020-01-01 02:00:00  \n",
      "2 2020-01-01 03:00:00  \n",
      "3 2020-01-01 04:00:00  \n"
     ]
    }
   ],
   "source": [
    "#print(dataset1.head(4))\n",
    "print(dataset2.head(4))"
   ]
  },
  {
   "cell_type": "code",
   "execution_count": 4,
   "metadata": {},
   "outputs": [],
   "source": [
    "# Menggabungkan dua tabel berdasarkan primary key 'id' dan membuang elemen yang tidak beririsan\n",
    "result = pd.merge(dataset1, dataset2, on='TanggalWaktu', how='inner')"
   ]
  },
  {
   "cell_type": "code",
   "execution_count": 5,
   "metadata": {},
   "outputs": [
    {
     "name": "stdout",
     "output_type": "stream",
     "text": [
      "<class 'pandas.core.frame.DataFrame'>\n",
      "RangeIndex: 13081 entries, 0 to 13080\n",
      "Data columns (total 23 columns):\n",
      " #   Column              Non-Null Count  Dtype         \n",
      "---  ------              --------------  -----         \n",
      " 0   Tanggal             13081 non-null  object        \n",
      " 1   Waktu               13081 non-null  object        \n",
      " 2   Bendung Katulampa   13081 non-null  int64         \n",
      " 3   Pos Depok           13081 non-null  int64         \n",
      " 4   Manggarai BKB       13081 non-null  int64         \n",
      " 5   PA. Karet           13081 non-null  int64         \n",
      " 6   Pos Krukut Hulu     13081 non-null  int64         \n",
      " 7   Pos Pesanggrahan    13081 non-null  int64         \n",
      " 8   Pos Angke Hulu      13081 non-null  int64         \n",
      " 9   Waduk Pluit         13081 non-null  int64         \n",
      " 10  Pasar Ikan - Laut   13081 non-null  int64         \n",
      " 11  Pos Cipinang Hulu   13081 non-null  int64         \n",
      " 12  Pos Sunter Hulu     13081 non-null  int64         \n",
      " 13  Pulo Gadung         13081 non-null  int64         \n",
      " 14  TanggalWaktu        13081 non-null  datetime64[ns]\n",
      " 15  air_temp            13081 non-null  int64         \n",
      " 16  cloud_opacity       13081 non-null  float64       \n",
      " 17  precipitable_water  13081 non-null  float64       \n",
      " 18  precipitation_rate  13081 non-null  float64       \n",
      " 19  relative_humidity   13081 non-null  float64       \n",
      " 20  wind_speed_10m      13081 non-null  float64       \n",
      " 21  period_end          13081 non-null  object        \n",
      " 22  period              13081 non-null  object        \n",
      "dtypes: datetime64[ns](1), float64(5), int64(13), object(4)\n",
      "memory usage: 2.3+ MB\n",
      "None\n"
     ]
    }
   ],
   "source": [
    "print(result.info())\n",
    "DataFinal = result[['TanggalWaktu','Manggarai BKB','precipitable_water','precipitation_rate','air_temp','relative_humidity','wind_speed_10m']]"
   ]
  },
  {
   "cell_type": "code",
   "execution_count": 6,
   "metadata": {},
   "outputs": [
    {
     "name": "stderr",
     "output_type": "stream",
     "text": [
      "/tmp/ipykernel_906/3825036399.py:2: SettingWithCopyWarning: \n",
      "A value is trying to be set on a copy of a slice from a DataFrame.\n",
      "Try using .loc[row_indexer,col_indexer] = value instead\n",
      "\n",
      "See the caveats in the documentation: https://pandas.pydata.org/pandas-docs/stable/user_guide/indexing.html#returning-a-view-versus-a-copy\n",
      "  DataFinal['Manggarai BKB'] = DataFinal['Manggarai BKB'].replace(0, np.nan)\n"
     ]
    }
   ],
   "source": [
    "# Mengganti nilai nol di kolom 'A' dengan NaN\n",
    "DataFinal['Manggarai BKB'] = DataFinal['Manggarai BKB'].replace(0, np.nan)"
   ]
  },
  {
   "cell_type": "code",
   "execution_count": 7,
   "metadata": {},
   "outputs": [
    {
     "name": "stdout",
     "output_type": "stream",
     "text": [
      "<class 'pandas.core.frame.DataFrame'>\n",
      "RangeIndex: 13081 entries, 0 to 13080\n",
      "Data columns (total 7 columns):\n",
      " #   Column              Non-Null Count  Dtype         \n",
      "---  ------              --------------  -----         \n",
      " 0   TanggalWaktu        13081 non-null  datetime64[ns]\n",
      " 1   Manggarai BKB       13072 non-null  float64       \n",
      " 2   precipitable_water  13081 non-null  float64       \n",
      " 3   precipitation_rate  13081 non-null  float64       \n",
      " 4   air_temp            13081 non-null  int64         \n",
      " 5   relative_humidity   13081 non-null  float64       \n",
      " 6   wind_speed_10m      13081 non-null  float64       \n",
      "dtypes: datetime64[ns](1), float64(5), int64(1)\n",
      "memory usage: 715.5 KB\n",
      "None\n"
     ]
    }
   ],
   "source": [
    "print(DataFinal.info())"
   ]
  },
  {
   "cell_type": "code",
   "execution_count": 10,
   "metadata": {},
   "outputs": [],
   "source": [
    "DataImputasi = DataFinal[['Manggarai BKB','precipitable_water','precipitation_rate','air_temp','relative_humidity','wind_speed_10m']]\n",
    "# create an object for KNNImputer\n",
    "imputer = KNNImputer(n_neighbors=5)\n",
    "After_imputation = imputer.fit_transform(DataImputasi)\n",
    "\n",
    "# Membuat DataFrame dari hasil imputasi untuk memudahkan inspeksi\n",
    "After_imputation_df = pd.DataFrame(After_imputation, columns=DataImputasi.columns)\n",
    "# Menggabungkan kembali kolom datetime dan kolom numerik yang sudah diimputasi\n",
    "df_final = pd.concat([DataFinal['TanggalWaktu'], After_imputation_df], axis=1)\n",
    "df_final.to_excel('DataSemnas6Var.xlsx')"
   ]
  },
  {
   "cell_type": "code",
   "execution_count": 11,
   "metadata": {},
   "outputs": [
    {
     "name": "stdout",
     "output_type": "stream",
     "text": [
      "<class 'pandas.core.frame.DataFrame'>\n",
      "RangeIndex: 13081 entries, 0 to 13080\n",
      "Data columns (total 7 columns):\n",
      " #   Column              Non-Null Count  Dtype         \n",
      "---  ------              --------------  -----         \n",
      " 0   TanggalWaktu        13081 non-null  datetime64[ns]\n",
      " 1   Manggarai BKB       13081 non-null  float64       \n",
      " 2   precipitable_water  13081 non-null  float64       \n",
      " 3   precipitation_rate  13081 non-null  float64       \n",
      " 4   air_temp            13081 non-null  float64       \n",
      " 5   relative_humidity   13081 non-null  float64       \n",
      " 6   wind_speed_10m      13081 non-null  float64       \n",
      "dtypes: datetime64[ns](1), float64(6)\n",
      "memory usage: 715.5 KB\n",
      "None\n"
     ]
    }
   ],
   "source": [
    "print(df_final.info())"
   ]
  }
 ],
 "metadata": {
  "kernelspec": {
   "display_name": "Python 3",
   "language": "python",
   "name": "python3"
  },
  "language_info": {
   "codemirror_mode": {
    "name": "ipython",
    "version": 3
   },
   "file_extension": ".py",
   "mimetype": "text/x-python",
   "name": "python",
   "nbconvert_exporter": "python",
   "pygments_lexer": "ipython3",
   "version": "3.10.12"
  }
 },
 "nbformat": 4,
 "nbformat_minor": 2
}
